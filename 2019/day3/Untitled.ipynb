{
 "cells": [
  {
   "cell_type": "code",
   "execution_count": 4,
   "metadata": {},
   "outputs": [],
   "source": [
    "import pandas as pd\n",
    "import numpy as np"
   ]
  },
  {
   "cell_type": "code",
   "execution_count": 15,
   "metadata": {},
   "outputs": [],
   "source": [
    "_input = pd.read_csv('input.txt', delimiter=',')"
   ]
  },
  {
   "cell_type": "code",
   "execution_count": 16,
   "metadata": {},
   "outputs": [
    {
     "data": {
      "text/html": [
       "<div>\n",
       "<style scoped>\n",
       "    .dataframe tbody tr th:only-of-type {\n",
       "        vertical-align: middle;\n",
       "    }\n",
       "\n",
       "    .dataframe tbody tr th {\n",
       "        vertical-align: top;\n",
       "    }\n",
       "\n",
       "    .dataframe thead th {\n",
       "        text-align: right;\n",
       "    }\n",
       "</style>\n",
       "<table border=\"1\" class=\"dataframe\">\n",
       "  <thead>\n",
       "    <tr style=\"text-align: right;\">\n",
       "      <th></th>\n",
       "      <th>R1008</th>\n",
       "      <th>U428</th>\n",
       "      <th>L339</th>\n",
       "      <th>U16</th>\n",
       "      <th>R910</th>\n",
       "      <th>U221</th>\n",
       "      <th>R53</th>\n",
       "      <th>D546</th>\n",
       "      <th>L805</th>\n",
       "      <th>U376</th>\n",
       "      <th>...</th>\n",
       "      <th>U489</th>\n",
       "      <th>L246</th>\n",
       "      <th>D153</th>\n",
       "      <th>L384</th>\n",
       "      <th>D684</th>\n",
       "      <th>L243.1</th>\n",
       "      <th>U65</th>\n",
       "      <th>L342</th>\n",
       "      <th>U662</th>\n",
       "      <th>R707</th>\n",
       "    </tr>\n",
       "  </thead>\n",
       "  <tbody>\n",
       "    <tr>\n",
       "      <th>0</th>\n",
       "      <td>L1008</td>\n",
       "      <td>D243</td>\n",
       "      <td>L602</td>\n",
       "      <td>D497</td>\n",
       "      <td>L395</td>\n",
       "      <td>U81</td>\n",
       "      <td>R589</td>\n",
       "      <td>U94</td>\n",
       "      <td>R640</td>\n",
       "      <td>D965</td>\n",
       "      <td>...</td>\n",
       "      <td>D455</td>\n",
       "      <td>L937</td>\n",
       "      <td>D180</td>\n",
       "      <td>R215</td>\n",
       "      <td>D684</td>\n",
       "      <td>R724</td>\n",
       "      <td>U561</td>\n",
       "      <td>R479</td>\n",
       "      <td>D353</td>\n",
       "      <td>L501</td>\n",
       "    </tr>\n",
       "  </tbody>\n",
       "</table>\n",
       "<p>1 rows × 301 columns</p>\n",
       "</div>"
      ],
      "text/plain": [
       "   R1008  U428  L339   U16  R910 U221   R53 D546  L805  U376  ...  U489  L246  \\\n",
       "0  L1008  D243  L602  D497  L395  U81  R589  U94  R640  D965  ...  D455  L937   \n",
       "\n",
       "   D153  L384  D684 L243.1   U65  L342  U662  R707  \n",
       "0  D180  R215  D684   R724  U561  R479  D353  L501  \n",
       "\n",
       "[1 rows x 301 columns]"
      ]
     },
     "execution_count": 16,
     "metadata": {},
     "output_type": "execute_result"
    }
   ],
   "source": [
    "_input"
   ]
  },
  {
   "cell_type": "code",
   "execution_count": null,
   "metadata": {},
   "outputs": [],
   "source": []
  }
 ],
 "metadata": {
  "kernelspec": {
   "display_name": "Python 3",
   "language": "python",
   "name": "python3"
  },
  "language_info": {
   "codemirror_mode": {
    "name": "ipython",
    "version": 3
   },
   "file_extension": ".py",
   "mimetype": "text/x-python",
   "name": "python",
   "nbconvert_exporter": "python",
   "pygments_lexer": "ipython3",
   "version": "3.7.3"
  }
 },
 "nbformat": 4,
 "nbformat_minor": 2
}
