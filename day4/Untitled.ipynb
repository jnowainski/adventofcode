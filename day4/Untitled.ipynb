{
 "cells": [
  {
   "cell_type": "code",
   "execution_count": 21,
   "metadata": {},
   "outputs": [],
   "source": [
    "#Day 4\n",
    "import numpy as np\n",
    "pwRange = range(264793,803935)"
   ]
  },
  {
   "cell_type": "code",
   "execution_count": 53,
   "metadata": {},
   "outputs": [
    {
     "data": {
      "text/plain": [
       "False"
      ]
     },
     "execution_count": 53,
     "metadata": {},
     "output_type": "execute_result"
    }
   ],
   "source": [
    "\n",
    "def neverDecreases(number):\n",
    "    lastNumber = 0\n",
    "    strNumber = str(number)\n",
    "    for i in strNumber:\n",
    "        if int(i) < lastNumber:\n",
    "            return False\n",
    "        lastNumber = int(i)\n",
    "        \n",
    "    return True\n",
    "\n",
    "def sameAdjacent(number):\n",
    "    strNumber = str(number)\n",
    "    for i in range(len(strNumber)-1):\n",
    "        if strNumber[i]==strNumber[i+1]:\n",
    "            return True\n",
    "    \n",
    "    return False\n",
    "\n",
    "def notLargerGroup(number):\n",
    "    strNumber = str(number)\n",
    "    pairs = []\n",
    "    \n",
    "    counter = 1\n",
    "    numToCheck = strNumber[0]\n",
    "    for i in range(len(strNumber)-1):\n",
    "        if numToCheck==strNumber[i+1]:\n",
    "            counter += 1\n",
    "        else:\n",
    "            pairs.append(strNumber[i]*counter)\n",
    "            counter = 1\n",
    "            numToCheck = strNumber[i+1]\n",
    "            \n",
    "    if counter > 1:\n",
    "        pairs.append(strNumber[i]*counter)\n",
    "        \n",
    "    lenList = [len(i) for i in pairs]\n",
    "    if(np.max(lenList)<=2):\n",
    "        return True\n",
    "    \n",
    "    l = [x for x in lenList if x==2]\n",
    "    if(len(l)>0):\n",
    "        return True\n",
    "    return False    \n",
    "    \n",
    "    \n",
    "notLargerGroup(123444)        "
   ]
  },
  {
   "cell_type": "code",
   "execution_count": 54,
   "metadata": {},
   "outputs": [
    {
     "name": "stdout",
     "output_type": "stream",
     "text": [
      "628\n"
     ]
    }
   ],
   "source": [
    "pwCounter = 0\n",
    "for i in pwRange:\n",
    "    if neverDecreases(i) and sameAdjacent(i) and notLargerGroup(i):\n",
    "        pwCounter += 1\n",
    "\n",
    "print(pwCounter)"
   ]
  },
  {
   "cell_type": "code",
   "execution_count": null,
   "metadata": {},
   "outputs": [],
   "source": []
  }
 ],
 "metadata": {
  "kernelspec": {
   "display_name": "Python 3",
   "language": "python",
   "name": "python3"
  },
  "language_info": {
   "codemirror_mode": {
    "name": "ipython",
    "version": 3
   },
   "file_extension": ".py",
   "mimetype": "text/x-python",
   "name": "python",
   "nbconvert_exporter": "python",
   "pygments_lexer": "ipython3",
   "version": "3.7.3"
  }
 },
 "nbformat": 4,
 "nbformat_minor": 2
}
