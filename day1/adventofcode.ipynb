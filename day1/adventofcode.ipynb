{
 "cells": [
  {
   "cell_type": "markdown",
   "metadata": {},
   "source": [
    "# Imports"
   ]
  },
  {
   "cell_type": "code",
   "execution_count": 20,
   "metadata": {},
   "outputs": [],
   "source": [
    "import pandas as pd\n",
    "import numpy as np\n",
    "import math"
   ]
  },
  {
   "cell_type": "markdown",
   "metadata": {},
   "source": [
    "# Day 1"
   ]
  },
  {
   "cell_type": "code",
   "execution_count": 93,
   "metadata": {},
   "outputs": [],
   "source": [
    "data = pd.read_csv('day1.txt', header=None)\n",
    "#data = data.apply(lambda x: ((x/3)//1)-2)\n",
    "#data.sum()"
   ]
  },
  {
   "cell_type": "code",
   "execution_count": 94,
   "metadata": {},
   "outputs": [
    {
     "data": {
      "text/plain": [
       "0     [46144.0]\n",
       "1     [28490.0]\n",
       "2     [32008.0]\n",
       "3     [60745.0]\n",
       "4     [71833.0]\n",
       "        ...    \n",
       "95    [59762.0]\n",
       "96    [54455.0]\n",
       "97    [56774.0]\n",
       "98    [60862.0]\n",
       "99    [60153.0]\n",
       "Length: 100, dtype: object"
      ]
     },
     "execution_count": 94,
     "metadata": {},
     "output_type": "execute_result"
    }
   ],
   "source": [
    "#additional fuel\n",
    "def applyFuel(x):\n",
    "    fuel = ((x.values/3)//1)-2\n",
    "    adFuel = fuel\n",
    "    \n",
    "    #add additional\n",
    "    while 1:\n",
    "        adFuel = ((adFuel/3)//1)-2\n",
    "        \n",
    "        if adFuel < 0:\n",
    "            break\n",
    "        \n",
    "        fuel += adFuel\n",
    "    \n",
    "    return fuel\n",
    "        \n",
    "data = data.apply(applyFuel, axis=1)\n"
   ]
  },
  {
   "cell_type": "code",
   "execution_count": 95,
   "metadata": {},
   "outputs": [
    {
     "data": {
      "text/plain": [
       "array([5055835.])"
      ]
     },
     "execution_count": 95,
     "metadata": {},
     "output_type": "execute_result"
    }
   ],
   "source": [
    "data.sum()"
   ]
  },
  {
   "cell_type": "code",
   "execution_count": null,
   "metadata": {},
   "outputs": [],
   "source": []
  }
 ],
 "metadata": {
  "kernelspec": {
   "display_name": "Python 3",
   "language": "python",
   "name": "python3"
  },
  "language_info": {
   "codemirror_mode": {
    "name": "ipython",
    "version": 3
   },
   "file_extension": ".py",
   "mimetype": "text/x-python",
   "name": "python",
   "nbconvert_exporter": "python",
   "pygments_lexer": "ipython3",
   "version": "3.7.3"
  }
 },
 "nbformat": 4,
 "nbformat_minor": 2
}
